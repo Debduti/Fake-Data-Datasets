{
  "nbformat": 4,
  "nbformat_minor": 0,
  "metadata": {
    "colab": {
      "provenance": [],
      "authorship_tag": "ABX9TyPIheWjCuMeA63+lGP1PUBM",
      "include_colab_link": true
    },
    "kernelspec": {
      "name": "python3",
      "display_name": "Python 3"
    },
    "language_info": {
      "name": "python"
    }
  },
  "cells": [
    {
      "cell_type": "markdown",
      "metadata": {
        "id": "view-in-github",
        "colab_type": "text"
      },
      "source": [
        "<a href=\"https://colab.research.google.com/github/Debduti/Fake-Data-Datasets/blob/main/Fake_Data_for_cyber_attacks.ipynb\" target=\"_parent\"><img src=\"https://colab.research.google.com/assets/colab-badge.svg\" alt=\"Open In Colab\"/></a>"
      ]
    },
    {
      "cell_type": "markdown",
      "source": [
        "# Fake Data Generation Code"
      ],
      "metadata": {
        "id": "ceYYK_yYtZBj"
      }
    },
    {
      "cell_type": "markdown",
      "source": [],
      "metadata": {
        "id": "wgcJYYphwsD_"
      }
    },
    {
      "cell_type": "code",
      "source": [
        "'''\n",
        "Installing dependencies\n",
        "'''\n",
        "!pip install faker"
      ],
      "metadata": {
        "colab": {
          "base_uri": "https://localhost:8080/"
        },
        "id": "BxNijTHetiki",
        "outputId": "fa30b089-f2d5-4c3b-c93b-3faf4851756c"
      },
      "execution_count": 33,
      "outputs": [
        {
          "output_type": "stream",
          "name": "stdout",
          "text": [
            "Requirement already satisfied: faker in /usr/local/lib/python3.10/dist-packages (25.2.0)\n",
            "Requirement already satisfied: python-dateutil>=2.4 in /usr/local/lib/python3.10/dist-packages (from faker) (2.8.2)\n",
            "Requirement already satisfied: six>=1.5 in /usr/local/lib/python3.10/dist-packages (from python-dateutil>=2.4->faker) (1.16.0)\n"
          ]
        }
      ]
    },
    {
      "cell_type": "code",
      "source": [
        "'''\n",
        "Import the packages and libraries required to generate fake data and visualize it\n",
        "'''\n",
        "\n",
        "import random\n",
        "from faker import Faker\n",
        "import pandas as pd\n",
        "from matplotlib import pyplot as plt\n",
        "import seaborn as sns"
      ],
      "metadata": {
        "id": "a3GlLtLtwmhG"
      },
      "execution_count": 34,
      "outputs": []
    },
    {
      "cell_type": "code",
      "source": [
        "dataset_noise = input(\"Do you want to generate fake data with noise? (yes/no): \")\n"
      ],
      "metadata": {
        "colab": {
          "base_uri": "https://localhost:8080/"
        },
        "id": "HdU2zjrq3v_J",
        "outputId": "bb23d282-42ca-4e00-c59a-ce5776852fb1"
      },
      "execution_count": 35,
      "outputs": [
        {
          "name": "stdout",
          "output_type": "stream",
          "text": [
            "Do you want to generate fake data with noise? (yes/no): no\n"
          ]
        }
      ]
    },
    {
      "cell_type": "markdown",
      "source": [
        "No Noise"
      ],
      "metadata": {
        "id": "9x2XoPJ8uJxJ"
      }
    },
    {
      "cell_type": "code",
      "execution_count": 36,
      "metadata": {
        "id": "88nU1dz_tXY7"
      },
      "outputs": [],
      "source": [
        "def generate_fake_data():\n",
        "  '''\n",
        "  Initializing an instance of the class Faker to generate fake data. We will generate 100,000 records for our dataset, we can tweak the\n",
        "  number of records as per our requirement.\n",
        "  The different types of threats that we are chhosing to generate are\n",
        "  1. Malware\n",
        "  2. Phishing\n",
        "  3. DDoS\n",
        "  4. Ransomware\n",
        "  5. Social Engineering\n",
        "\n",
        "  The different types of sources that we are choosing to attribute these attacks to are\n",
        "  1. Security Blog\n",
        "  2. News Article\n",
        "  3. Social Media\n",
        "  4. Dark Web Forum\n",
        "\n",
        "  '''\n",
        "\n",
        "  # Initialize Faker to generate fake data\n",
        "  fake = Faker()\n",
        "\n",
        "  # Define the number of records to generate\n",
        "  num_records = 100000\n",
        "\n",
        "  # Define lists of threat types and sources\n",
        "  threat_types = ['Malware', 'Phishing', 'DDoS', 'Ransomware', 'Social Engineering']\n",
        "  sources = ['Security Blog', 'News Article', 'Social Media', 'Dark Web Forum']\n",
        "\n",
        "  # Initialize an empty list to store generated data\n",
        "  data = []\n",
        "\n",
        "  # Generate synthetic data for each record\n",
        "  for _ in range(num_records):\n",
        "      # Generate random date within a specified time range (e.g., past year)\n",
        "      date = fake.date_time_this_year(before_now=True, after_now=False, tzinfo=None)\n",
        "\n",
        "      # Randomly select threat type and source\n",
        "      threat_type = random.choice(threat_types)\n",
        "      source = random.choice(sources)\n",
        "\n",
        "      # Generate a fake description using Faker\n",
        "      description = fake.sentence(nb_words=10, variable_nb_words=True, ext_word_list=None)\n",
        "\n",
        "      # Append generated data to the list\n",
        "      data.append({'Date': date, 'Threat Type': threat_type, 'Description': description, 'Source': source})\n",
        "\n",
        "  # Create a DataFrame from the generated data\n",
        "  df = pd.DataFrame(data)\n",
        "\n",
        "  # Output the DataFrame to a CSV file\n",
        "  df.to_csv('synthetic_threat_data.csv', index=False)\n",
        "\n",
        "  print(\"Synthetic data generated successfully!\")"
      ]
    },
    {
      "cell_type": "markdown",
      "source": [
        "With Noise"
      ],
      "metadata": {
        "id": "5nd4dZaKuNIl"
      }
    },
    {
      "cell_type": "code",
      "source": [
        "def generate_fake_data_with_noise():\n",
        "  '''\n",
        "  Initializing an instance of the class Faker to generate fake data. We will generate 100,000 records for our dataset, we can tweak the\n",
        "  number of records as per our requirement.\n",
        "  The different types of threats that we are chhosing to generate are\n",
        "  1. Malware\n",
        "  2. Phishing\n",
        "  3. DDoS\n",
        "  4. Ransomware\n",
        "  5. Social Engineering\n",
        "\n",
        "  The different types of sources that we are choosing to attribute these attacks to are\n",
        "  1. Security Blog\n",
        "  2. News Article\n",
        "  3. Social Media\n",
        "  4. Dark Web Forum\n",
        "\n",
        "  In this dataset, we are adding random noise to the date, threat type and description.\n",
        "\n",
        "  '''\n",
        "\n",
        "  # Initialize Faker to generate fake data\n",
        "  fake = Faker()\n",
        "\n",
        "  # Define the number of records to generate\n",
        "  num_records = 100000\n",
        "\n",
        "  # Define lists of threat types and sources\n",
        "  threat_types = ['Malware', 'Phishing', 'DDoS', 'Ransomware', 'Social Engineering']\n",
        "  sources = ['Security Blog', 'News Article', 'Social Media', 'Dark Web Forum']\n",
        "\n",
        "  # Initialize an empty list to store generated data\n",
        "  data = []\n",
        "\n",
        "  # Generate synthetic data for each record\n",
        "  for _ in range(num_records):\n",
        "      # Generate random date within a specified time range (e.g., past year)\n",
        "      date = fake.date_time_this_year(before_now=True, after_now=False, tzinfo=None)\n",
        "\n",
        "      # Add random noise to the date (e.g., up to +/- 7 days)\n",
        "      noise_days = random.randint(-7, 7)\n",
        "      date += datetime.timedelta(days=noise_days)\n",
        "\n",
        "      # Randomly select threat type and source\n",
        "      threat_type = random.choice(threat_types)\n",
        "      source = random.choice(sources)\n",
        "\n",
        "      # Generate a fake description with added noise using Faker\n",
        "      description = fake.sentence(nb_words=10, variable_nb_words=True, ext_word_list=None)\n",
        "\n",
        "      # Add random noise to the description (e.g., add random words or typos)\n",
        "      noise_words = random.randint(-3, 3)\n",
        "      for _ in range(abs(noise_words)):\n",
        "          if noise_words > 0:\n",
        "              description += ' ' + fake.word()\n",
        "          else:\n",
        "              description = ' '.join(description.split()[:-1])\n",
        "\n",
        "      # Append generated data to the list\n",
        "      data.append({'Date': date, 'Threat Type': threat_type, 'Description': description, 'Source': source})\n",
        "\n",
        "  # Create a DataFrame from the generated data\n",
        "  df = pd.DataFrame(data)\n",
        "\n",
        "  # Output the DataFrame to a CSV file\n",
        "  df.to_csv('synthetic_threat_data_with_noise.csv', index=False)\n",
        "\n",
        "  print(\"Synthetic data with noise generated successfully!\")"
      ],
      "metadata": {
        "id": "c0h5Ch8KtvLN"
      },
      "execution_count": 37,
      "outputs": []
    },
    {
      "cell_type": "markdown",
      "source": [
        "Execute the fake data generation functions"
      ],
      "metadata": {
        "id": "tKLghKhG5UxQ"
      }
    },
    {
      "cell_type": "code",
      "source": [
        "'''\n",
        "Create the fake data based on the user input\n",
        "'''\n",
        "if dataset_noise == 'no' :\n",
        "  generate_fake_data\n",
        "elif dataset_noise == 'yes':\n",
        "  generate_fake_data_with_noise\n",
        "else:\n",
        "  print(\"Invalid input. Please enter 'yes' or 'no'.\")"
      ],
      "metadata": {
        "id": "oWrgQcvs4BHz"
      },
      "execution_count": 38,
      "outputs": []
    },
    {
      "cell_type": "code",
      "source": [],
      "metadata": {
        "id": "3Pk7OEphwAxn"
      },
      "execution_count": 38,
      "outputs": []
    }
  ]
}